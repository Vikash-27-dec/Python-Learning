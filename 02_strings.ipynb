{
 "cells": [
  {
   "cell_type": "code",
   "execution_count": 1,
   "id": "873be168-167a-4621-8ef3-10414c5cc75a",
   "metadata": {},
   "outputs": [],
   "source": [
    " # String is a collection of characters in python."
   ]
  },
  {
   "cell_type": "code",
   "execution_count": 2,
   "id": "e24ddf34-ad0c-4b2a-a8a1-c476e9af9b4e",
   "metadata": {},
   "outputs": [],
   "source": [
    "name = \"vikash\""
   ]
  },
  {
   "cell_type": "code",
   "execution_count": 3,
   "id": "7f8e8840-87f2-41dc-837a-3e2e1b0bd155",
   "metadata": {},
   "outputs": [
    {
     "data": {
      "text/plain": [
       "'vikash'"
      ]
     },
     "execution_count": 3,
     "metadata": {},
     "output_type": "execute_result"
    }
   ],
   "source": [
    "name"
   ]
  },
  {
   "cell_type": "code",
   "execution_count": 4,
   "id": "9d19298a-0b1a-4fcb-a7e3-1082e1832940",
   "metadata": {},
   "outputs": [
    {
     "data": {
      "text/plain": [
       "'VIKASH'"
      ]
     },
     "execution_count": 4,
     "metadata": {},
     "output_type": "execute_result"
    }
   ],
   "source": [
    "name.upper()"
   ]
  },
  {
   "cell_type": "code",
   "execution_count": 5,
   "id": "8cd42e6c-6274-406e-924f-08fdccc5085c",
   "metadata": {},
   "outputs": [
    {
     "data": {
      "text/plain": [
       "True"
      ]
     },
     "execution_count": 5,
     "metadata": {},
     "output_type": "execute_result"
    }
   ],
   "source": [
    "name.endswith(\"sh\")"
   ]
  },
  {
   "cell_type": "code",
   "execution_count": 6,
   "id": "1a4f9aee-45c6-4c12-b342-3ec2f4ce74a7",
   "metadata": {},
   "outputs": [
    {
     "data": {
      "text/plain": [
       "False"
      ]
     },
     "execution_count": 6,
     "metadata": {},
     "output_type": "execute_result"
    }
   ],
   "source": [
    "name.endswith(\"jerry\")"
   ]
  },
  {
   "cell_type": "code",
   "execution_count": 7,
   "id": "57c09bee-2252-4323-82ff-3edea175d70f",
   "metadata": {},
   "outputs": [
    {
     "data": {
      "text/plain": [
       "'vikash'"
      ]
     },
     "execution_count": 7,
     "metadata": {},
     "output_type": "execute_result"
    }
   ],
   "source": [
    "name.lower()"
   ]
  },
  {
   "cell_type": "code",
   "execution_count": 8,
   "id": "aa2a1171-2fb5-4024-a671-8c00b12ecb4a",
   "metadata": {},
   "outputs": [
    {
     "data": {
      "text/plain": [
       "1"
      ]
     },
     "execution_count": 8,
     "metadata": {},
     "output_type": "execute_result"
    }
   ],
   "source": [
    "name.count(\"i\")"
   ]
  },
  {
   "cell_type": "code",
   "execution_count": 9,
   "id": "a8afc8c5-5ea4-47fe-8c63-c3b494399a74",
   "metadata": {},
   "outputs": [
    {
     "data": {
      "text/plain": [
       "0"
      ]
     },
     "execution_count": 9,
     "metadata": {},
     "output_type": "execute_result"
    }
   ],
   "source": [
    "name.count(\"w\")"
   ]
  },
  {
   "cell_type": "code",
   "execution_count": 10,
   "id": "e6847065-fefd-4d19-bb41-b92fbdb50961",
   "metadata": {},
   "outputs": [
    {
     "name": "stdout",
     "output_type": "stream",
     "text": [
      "19\n"
     ]
    }
   ],
   "source": [
    "s = \"Data science course\"\n",
    "print(len(s))"
   ]
  },
  {
   "cell_type": "code",
   "execution_count": 11,
   "id": "8468668b-743b-46bb-9ae0-6bbcdd01c965",
   "metadata": {},
   "outputs": [],
   "source": [
    "# Search on chat gpt- Give me top 10 python string functions I should know about."
   ]
  },
  {
   "cell_type": "code",
   "execution_count": 12,
   "id": "68cdd6c0-0d79-41b1-ad66-693f405c0336",
   "metadata": {},
   "outputs": [
    {
     "data": {
      "text/plain": [
       "'vikas'"
      ]
     },
     "execution_count": 12,
     "metadata": {},
     "output_type": "execute_result"
    }
   ],
   "source": [
    "name[0:5]"
   ]
  },
  {
   "cell_type": "code",
   "execution_count": 13,
   "id": "6a788428-0118-4a66-80ea-67e3c2775ef5",
   "metadata": {},
   "outputs": [
    {
     "data": {
      "text/plain": [
       "'ikas'"
      ]
     },
     "execution_count": 13,
     "metadata": {},
     "output_type": "execute_result"
    }
   ],
   "source": [
    "name[1:-1]"
   ]
  },
  {
   "cell_type": "code",
   "execution_count": 14,
   "id": "8aba011d-7f59-4a58-b326-4d0b90869782",
   "metadata": {},
   "outputs": [
    {
     "data": {
      "text/plain": [
       "'ikas'"
      ]
     },
     "execution_count": 14,
     "metadata": {},
     "output_type": "execute_result"
    }
   ],
   "source": [
    "name[1:5]"
   ]
  },
  {
   "cell_type": "code",
   "execution_count": 15,
   "id": "e4f0f710-996d-40be-ace9-9f07300136df",
   "metadata": {},
   "outputs": [
    {
     "data": {
      "text/plain": [
       "'ikas'"
      ]
     },
     "execution_count": 15,
     "metadata": {},
     "output_type": "execute_result"
    }
   ],
   "source": [
    "name[-5:-1]"
   ]
  },
  {
   "cell_type": "code",
   "execution_count": 16,
   "id": "d1ad6065-c467-4fc9-9226-9c34cacb06ea",
   "metadata": {},
   "outputs": [],
   "source": [
    "l= [1,2,3,4]"
   ]
  },
  {
   "cell_type": "code",
   "execution_count": 17,
   "id": "ec3fe131-6281-4096-aaa6-1397577cae9c",
   "metadata": {},
   "outputs": [
    {
     "data": {
      "text/plain": [
       "1"
      ]
     },
     "execution_count": 17,
     "metadata": {},
     "output_type": "execute_result"
    }
   ],
   "source": [
    "l[0] "
   ]
  },
  {
   "cell_type": "code",
   "execution_count": 18,
   "id": "7e2f2db5-9b50-446b-b166-aa9feaaec886",
   "metadata": {},
   "outputs": [],
   "source": [
    "l= (\"2025\",\"2030\",\"2056\")"
   ]
  },
  {
   "cell_type": "code",
   "execution_count": 19,
   "id": "1fa27201-f8f3-40e1-be6a-09886ce1f789",
   "metadata": {},
   "outputs": [
    {
     "data": {
      "text/plain": [
       "'2025'"
      ]
     },
     "execution_count": 19,
     "metadata": {},
     "output_type": "execute_result"
    }
   ],
   "source": [
    "l[0]"
   ]
  },
  {
   "cell_type": "code",
   "execution_count": 20,
   "id": "223f1906-4b84-4842-9fe5-93030e5ec44e",
   "metadata": {},
   "outputs": [
    {
     "data": {
      "text/plain": [
       "('2025', '2030', '2056')"
      ]
     },
     "execution_count": 20,
     "metadata": {},
     "output_type": "execute_result"
    }
   ],
   "source": [
    "l"
   ]
  },
  {
   "cell_type": "code",
   "execution_count": 23,
   "id": "93f47e32-e3e3-4bdb-af1e-3958fa14e9fc",
   "metadata": {},
   "outputs": [],
   "source": [
    "name= \"Vikash\""
   ]
  },
  {
   "cell_type": "code",
   "execution_count": 30,
   "id": "1941cb42-f28a-4980-bd2b-36b0d80ce5e3",
   "metadata": {},
   "outputs": [
    {
     "data": {
      "text/plain": [
       "'ikas'"
      ]
     },
     "execution_count": 30,
     "metadata": {},
     "output_type": "execute_result"
    }
   ],
   "source": [
    "name[-5:-1]"
   ]
  }
 ],
 "metadata": {
  "kernelspec": {
   "display_name": "Python [conda env:base] *",
   "language": "python",
   "name": "conda-base-py"
  },
  "language_info": {
   "codemirror_mode": {
    "name": "ipython",
    "version": 3
   },
   "file_extension": ".py",
   "mimetype": "text/x-python",
   "name": "python",
   "nbconvert_exporter": "python",
   "pygments_lexer": "ipython3",
   "version": "3.12.7"
  }
 },
 "nbformat": 4,
 "nbformat_minor": 5
}
