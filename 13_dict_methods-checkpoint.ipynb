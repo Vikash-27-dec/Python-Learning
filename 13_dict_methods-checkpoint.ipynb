{
 "cells": [
  {
   "cell_type": "code",
   "execution_count": 2,
   "id": "793c91a7-da02-40cf-ab44-60224a76c299",
   "metadata": {},
   "outputs": [],
   "source": [
    "d= {}"
   ]
  },
  {
   "cell_type": "code",
   "execution_count": 4,
   "id": "a379ac1c-b664-4ee5-93d6-8cda3b9ae502",
   "metadata": {},
   "outputs": [
    {
     "data": {
      "text/plain": [
       "dict"
      ]
     },
     "execution_count": 4,
     "metadata": {},
     "output_type": "execute_result"
    }
   ],
   "source": [
    "type(d)"
   ]
  },
  {
   "cell_type": "code",
   "execution_count": 5,
   "id": "ead2d319-d094-452d-8e2f-713bdac4b239",
   "metadata": {},
   "outputs": [],
   "source": [
    "# Dictionary with key-value pairs:-\n",
    "student = {\n",
    "    \"name\": \"Vikash\",\n",
    "    \"age\": 25,\n",
    "    \"grade\": \"A\"\n",
    "}"
   ]
  },
  {
   "cell_type": "code",
   "execution_count": 23,
   "id": "40a2b7b4-e8a0-4ae9-b208-a2927787805a",
   "metadata": {},
   "outputs": [
    {
     "data": {
      "text/plain": [
       "'Vikash'"
      ]
     },
     "execution_count": 23,
     "metadata": {},
     "output_type": "execute_result"
    }
   ],
   "source": [
    "student[\"name\"]"
   ]
  },
  {
   "cell_type": "code",
   "execution_count": 24,
   "id": "07e6466d-1636-4a0e-abd9-47608393187c",
   "metadata": {},
   "outputs": [],
   "source": [
    "# Dictionary with key-value pairs:-\n",
    "student = {\n",
    "    \"name\": \"Vikash\",\n",
    "    \"age\": 25,\n",
    "    \"grade\": \"A\"\n",
    "}"
   ]
  },
  {
   "cell_type": "code",
   "execution_count": 25,
   "id": "9664af4c-5feb-4050-bbdb-97946f3de22e",
   "metadata": {},
   "outputs": [
    {
     "name": "stdout",
     "output_type": "stream",
     "text": [
      "25\n"
     ]
    }
   ],
   "source": [
    "print(student[\"age\"])"
   ]
  },
  {
   "cell_type": "code",
   "execution_count": 26,
   "id": "6b1fc29c-4240-4265-badb-105e051ae7a9",
   "metadata": {},
   "outputs": [],
   "source": [
    "student[\"age\"] = 67"
   ]
  },
  {
   "cell_type": "code",
   "execution_count": 27,
   "id": "3366fbd8-577a-4333-8ac0-3254863f2b83",
   "metadata": {},
   "outputs": [
    {
     "name": "stdout",
     "output_type": "stream",
     "text": [
      "{'name': 'Vikash', 'age': 67, 'grade': 'A'}\n"
     ]
    }
   ],
   "source": [
    "print(student)"
   ]
  },
  {
   "cell_type": "code",
   "execution_count": 28,
   "id": "d5bb9d2a-8944-47dc-ac54-34b5b3b4c912",
   "metadata": {},
   "outputs": [
    {
     "data": {
      "text/plain": [
       "dict_keys(['name', 'age', 'grade'])"
      ]
     },
     "execution_count": 28,
     "metadata": {},
     "output_type": "execute_result"
    }
   ],
   "source": [
    "student.keys()"
   ]
  },
  {
   "cell_type": "code",
   "execution_count": 29,
   "id": "e5b5f953-dfc5-4f1a-a817-40056839ca96",
   "metadata": {},
   "outputs": [
    {
     "data": {
      "text/plain": [
       "dict_values(['Vikash', 67, 'A'])"
      ]
     },
     "execution_count": 29,
     "metadata": {},
     "output_type": "execute_result"
    }
   ],
   "source": [
    "student.values()"
   ]
  },
  {
   "cell_type": "code",
   "execution_count": 30,
   "id": "12388395-17f6-4491-b824-1fce6d224940",
   "metadata": {},
   "outputs": [
    {
     "data": {
      "text/plain": [
       "dict_items([('name', 'Vikash'), ('age', 67), ('grade', 'A')])"
      ]
     },
     "execution_count": 30,
     "metadata": {},
     "output_type": "execute_result"
    }
   ],
   "source": [
    "student.items()"
   ]
  },
  {
   "cell_type": "code",
   "execution_count": 31,
   "id": "4eb5cd9a-2085-45bd-b20d-0e11c3b1f72a",
   "metadata": {},
   "outputs": [],
   "source": [
    "student.update({\"name\": \"Harry\"})"
   ]
  },
  {
   "cell_type": "code",
   "execution_count": 32,
   "id": "550a9935-b7d6-4271-a837-e781273376ce",
   "metadata": {},
   "outputs": [
    {
     "data": {
      "text/plain": [
       "{'name': 'Harry', 'age': 67, 'grade': 'A'}"
      ]
     },
     "execution_count": 32,
     "metadata": {},
     "output_type": "execute_result"
    }
   ],
   "source": [
    "student"
   ]
  },
  {
   "cell_type": "code",
   "execution_count": 33,
   "id": "466fc431-f203-4d3c-87e2-5fdc38501464",
   "metadata": {},
   "outputs": [],
   "source": [
    "student.update({\"name\": \"Ruchika\", \"language\": \"Python\"})"
   ]
  },
  {
   "cell_type": "code",
   "execution_count": 34,
   "id": "e2683a01-d082-48af-b6f5-f2b53951f7e4",
   "metadata": {},
   "outputs": [
    {
     "data": {
      "text/plain": [
       "{'name': 'Ruchika', 'age': 67, 'grade': 'A', 'language': 'Python'}"
      ]
     },
     "execution_count": 34,
     "metadata": {},
     "output_type": "execute_result"
    }
   ],
   "source": [
    "student"
   ]
  },
  {
   "cell_type": "code",
   "execution_count": null,
   "id": "e1a6636f-5511-4b23-add2-6feb6f579bda",
   "metadata": {},
   "outputs": [],
   "source": []
  }
 ],
 "metadata": {
  "kernelspec": {
   "display_name": "Python [conda env:base] *",
   "language": "python",
   "name": "conda-base-py"
  },
  "language_info": {
   "codemirror_mode": {
    "name": "ipython",
    "version": 3
   },
   "file_extension": ".py",
   "mimetype": "text/x-python",
   "name": "python",
   "nbconvert_exporter": "python",
   "pygments_lexer": "ipython3",
   "version": "3.12.7"
  }
 },
 "nbformat": 4,
 "nbformat_minor": 5
}
