{
 "cells": [
  {
   "cell_type": "code",
   "execution_count": 2,
   "id": "040dddf9-9103-49e2-8811-98e4b89bdae7",
   "metadata": {},
   "outputs": [],
   "source": [
    "l= [3,5,6,67]"
   ]
  },
  {
   "cell_type": "code",
   "execution_count": 6,
   "id": "f19e15fc-fb1e-4b5e-8b9a-635a918d6a27",
   "metadata": {},
   "outputs": [
    {
     "name": "stdout",
     "output_type": "stream",
     "text": [
      "3\n",
      "5\n",
      "6\n",
      "67\n"
     ]
    }
   ],
   "source": [
    "for item in l:\n",
    "    print(item)"
   ]
  },
  {
   "cell_type": "code",
   "execution_count": 8,
   "id": "a9442cc5-20d9-46ce-a68c-797a908b238f",
   "metadata": {},
   "outputs": [],
   "source": [
    "#Using range()"
   ]
  },
  {
   "cell_type": "code",
   "execution_count": 10,
   "id": "d5601cfb-48e7-4f1d-9153-5bbad23e85fa",
   "metadata": {},
   "outputs": [
    {
     "name": "stdout",
     "output_type": "stream",
     "text": [
      "0\n",
      "1\n",
      "2\n",
      "3\n",
      "4\n",
      "5\n",
      "6\n",
      "7\n",
      "8\n",
      "9\n"
     ]
    }
   ],
   "source": [
    "for i in range(10):\n",
    "    print(i)"
   ]
  },
  {
   "cell_type": "code",
   "execution_count": 12,
   "id": "6c82e4dc-38f7-4ac8-b65e-b4d82baeb14d",
   "metadata": {},
   "outputs": [
    {
     "name": "stdout",
     "output_type": "stream",
     "text": [
      "5\n",
      "6\n",
      "7\n",
      "8\n",
      "9\n",
      "10\n"
     ]
    }
   ],
   "source": [
    "for i in range(5,11):\n",
    "    print(i)"
   ]
  },
  {
   "cell_type": "markdown",
   "id": "812e2d51-ae5e-4326-88b8-997d772a5487",
   "metadata": {},
   "source": [
    "While LOOP- Run as long as condtion is true."
   ]
  },
  {
   "cell_type": "code",
   "execution_count": 13,
   "id": "975af6f1-0034-4c42-8b60-0a02821279dd",
   "metadata": {},
   "outputs": [
    {
     "name": "stdout",
     "output_type": "stream",
     "text": [
      "0\n",
      "1\n",
      "2\n"
     ]
    }
   ],
   "source": [
    "count = 0\n",
    "while count <3:\n",
    "    print(count)\n",
    "    count += 1"
   ]
  },
  {
   "cell_type": "code",
   "execution_count": 14,
   "id": "535053ff-f28b-468f-a108-cf61bbfddfac",
   "metadata": {},
   "outputs": [
    {
     "name": "stdout",
     "output_type": "stream",
     "text": [
      "0\n",
      "1\n",
      "2\n",
      "3\n",
      "4\n",
      "5\n",
      "6\n",
      "7\n",
      "8\n",
      "9\n",
      "10\n",
      "11\n"
     ]
    }
   ],
   "source": [
    "i = 0\n",
    "while i<12:\n",
    "    print(i)\n",
    "    i = i + 1"
   ]
  },
  {
   "cell_type": "markdown",
   "id": "9f0ece0f-3d9a-4053-a412-95f979a5280f",
   "metadata": {},
   "source": [
    "LOOP CONTROL STATEMENTS:-\n",
    "Break- exits the loop,\n",
    "Continue- skips the next iteration,\n",
    "Pass- does nothing(Used as a placeholder)."
   ]
  },
  {
   "cell_type": "code",
   "execution_count": 20,
   "id": "5f795e37-8243-4299-b81e-1c82fa309469",
   "metadata": {},
   "outputs": [
    {
     "name": "stdout",
     "output_type": "stream",
     "text": [
      "Hello\n"
     ]
    }
   ],
   "source": [
    "for item in l:\n",
    "    pass # Don't do anything.\n",
    "\n",
    "print(\"Hello\")\n"
   ]
  },
  {
   "cell_type": "code",
   "execution_count": 21,
   "id": "44d30e43-8040-4559-bf5d-878731ba14a0",
   "metadata": {},
   "outputs": [
    {
     "name": "stdout",
     "output_type": "stream",
     "text": [
      "apples\n",
      "bananas\n",
      "tomatoes\n"
     ]
    }
   ],
   "source": [
    "l= [\"apples\",\"bananas\",\"tomatoes\"]\n",
    "for item in l:\n",
    "    print(item)"
   ]
  },
  {
   "cell_type": "code",
   "execution_count": 22,
   "id": "267bf2b5-1520-4870-aba0-5c16d003e501",
   "metadata": {},
   "outputs": [
    {
     "name": "stdout",
     "output_type": "stream",
     "text": [
      "apples\n"
     ]
    }
   ],
   "source": [
    "l= [\"apples\",\"bananas\",\"tomatoes\"]\n",
    "for item in l:\n",
    "    if(item == \"bananas\"):\n",
    "        break #stop this loop right here\n",
    "    print(item)"
   ]
  },
  {
   "cell_type": "code",
   "execution_count": 24,
   "id": "e1d4f5ef-0849-49da-ac65-452c2604fe3b",
   "metadata": {},
   "outputs": [
    {
     "name": "stdout",
     "output_type": "stream",
     "text": [
      "apples\n",
      "tomatoes\n"
     ]
    }
   ],
   "source": [
    "l= [\"apples\",\"bananas\",\"tomatoes\"]\n",
    "for item in l:\n",
    "    if(item == \"bananas\"):\n",
    "        continue #skip this particular iteration of the loop.\n",
    "    print(item)"
   ]
  },
  {
   "cell_type": "code",
   "execution_count": null,
   "id": "55baf7cf-e0c2-41ee-86e5-8be991a0c128",
   "metadata": {},
   "outputs": [],
   "source": []
  }
 ],
 "metadata": {
  "kernelspec": {
   "display_name": "Python [conda env:base] *",
   "language": "python",
   "name": "conda-base-py"
  },
  "language_info": {
   "codemirror_mode": {
    "name": "ipython",
    "version": 3
   },
   "file_extension": ".py",
   "mimetype": "text/x-python",
   "name": "python",
   "nbconvert_exporter": "python",
   "pygments_lexer": "ipython3",
   "version": "3.12.7"
  }
 },
 "nbformat": 4,
 "nbformat_minor": 5
}
