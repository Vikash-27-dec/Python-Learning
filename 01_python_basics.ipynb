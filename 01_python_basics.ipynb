{
 "cells": [
  {
   "cell_type": "code",
   "execution_count": 1,
   "id": "c154f104-1c99-44d5-8d79-633a1ae07bc6",
   "metadata": {},
   "outputs": [],
   "source": [
    "a= 5"
   ]
  },
  {
   "cell_type": "code",
   "execution_count": 2,
   "id": "5b9ae96d-d74c-4494-b939-f6572a020689",
   "metadata": {},
   "outputs": [],
   "source": [
    "b= 32"
   ]
  },
  {
   "cell_type": "code",
   "execution_count": null,
   "id": "a7adb710-f9aa-4a1e-a019-8ff2d17b9b91",
   "metadata": {},
   "outputs": [
    {
     "data": {
      "text/plain": [
       "37"
      ]
     },
     "execution_count": 3,
     "metadata": {},
     "output_type": "execute_result"
    }
   ],
   "source": [
    "a + b"
   ]
  },
  {
   "cell_type": "code",
   "execution_count": 4,
   "id": "4b6fe3e6-e043-4334-bc17-dcddf8799050",
   "metadata": {},
   "outputs": [],
   "source": [
    "name = \"Vikash\""
   ]
  },
  {
   "cell_type": "code",
   "execution_count": 8,
   "id": "b7be0928-5316-43b2-9e7d-217aba01bc8e",
   "metadata": {},
   "outputs": [
    {
     "name": "stdout",
     "output_type": "stream",
     "text": [
      "Hello world\n"
     ]
    }
   ],
   "source": [
    "print(\"Hello world\") #This will print Hello world"
   ]
  },
  {
   "cell_type": "code",
   "execution_count": 9,
   "id": "e29f9855-59d1-4f37-ab4b-96c584a35af6",
   "metadata": {},
   "outputs": [],
   "source": [
    "#this is a comment"
   ]
  },
  {
   "cell_type": "code",
   "execution_count": 11,
   "id": "4dbcb430-7ae8-4092-b03c-a8bfbe95e3c7",
   "metadata": {},
   "outputs": [
    {
     "name": "stdout",
     "output_type": "stream",
     "text": [
      "<class 'int'>\n"
     ]
    }
   ],
   "source": [
    "print(type(a))"
   ]
  },
  {
   "cell_type": "code",
   "execution_count": 13,
   "id": "ab6615aa-1c74-45c8-9902-754e67f43280",
   "metadata": {},
   "outputs": [
    {
     "name": "stdout",
     "output_type": "stream",
     "text": [
      "<class 'str'>\n"
     ]
    }
   ],
   "source": [
    "print(type(name))"
   ]
  },
  {
   "cell_type": "code",
   "execution_count": 15,
   "id": "702fd245-297a-4152-b87f-ad94421ee15f",
   "metadata": {},
   "outputs": [
    {
     "data": {
      "text/plain": [
       "str"
      ]
     },
     "execution_count": 15,
     "metadata": {},
     "output_type": "execute_result"
    }
   ],
   "source": [
    "type(name)"
   ]
  },
  {
   "cell_type": "code",
   "execution_count": 17,
   "id": "b84aa786-cdbe-4ec7-8308-4eeca9fb8863",
   "metadata": {},
   "outputs": [],
   "source": [
    "a= \"4566\""
   ]
  },
  {
   "cell_type": "code",
   "execution_count": 18,
   "id": "14e22bb1-14b7-45b8-8a58-4cfb18679282",
   "metadata": {},
   "outputs": [],
   "source": [
    "b= \"5677\""
   ]
  },
  {
   "cell_type": "code",
   "execution_count": 19,
   "id": "08f7dbe0-2691-4c67-82e1-459af4ab4675",
   "metadata": {},
   "outputs": [
    {
     "name": "stdout",
     "output_type": "stream",
     "text": [
      "45665677\n"
     ]
    }
   ],
   "source": [
    "print(a + b)"
   ]
  },
  {
   "cell_type": "code",
   "execution_count": 20,
   "id": "ca759182-d776-4da2-b798-5f9bf379108c",
   "metadata": {},
   "outputs": [],
   "source": [
    "#They both are strings that's why concatination happens."
   ]
  },
  {
   "cell_type": "code",
   "execution_count": 23,
   "id": "77811bb0-8d4d-4a33-b352-da85dc261327",
   "metadata": {},
   "outputs": [
    {
     "data": {
      "text/plain": [
       "10243"
      ]
     },
     "execution_count": 23,
     "metadata": {},
     "output_type": "execute_result"
    }
   ],
   "source": [
    "(int(a) + int(b)) # Typecasting"
   ]
  }
 ],
 "metadata": {
  "kernelspec": {
   "display_name": "Python [conda env:base] *",
   "language": "python",
   "name": "conda-base-py"
  },
  "language_info": {
   "codemirror_mode": {
    "name": "ipython",
    "version": 3
   },
   "file_extension": ".py",
   "mimetype": "text/x-python",
   "name": "python",
   "nbconvert_exporter": "python",
   "pygments_lexer": "ipython3",
   "version": "3.12.7"
  }
 },
 "nbformat": 4,
 "nbformat_minor": 5
}
