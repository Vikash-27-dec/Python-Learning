{
 "cells": [
  {
   "cell_type": "code",
   "execution_count": 1,
   "id": "a658dfed-26f6-40fd-84ec-81c3bf146845",
   "metadata": {},
   "outputs": [],
   "source": [
    "f = open(\"text.txt\", \"r\")"
   ]
  },
  {
   "cell_type": "code",
   "execution_count": 2,
   "id": "b6e47624-d105-4488-944a-e1d4e6ce53b2",
   "metadata": {},
   "outputs": [
    {
     "data": {
      "text/plain": [
       "'Jai shri ram'"
      ]
     },
     "execution_count": 2,
     "metadata": {},
     "output_type": "execute_result"
    }
   ],
   "source": [
    "f.read()"
   ]
  },
  {
   "cell_type": "code",
   "execution_count": 3,
   "id": "046bcda3-7e83-4119-b412-af83179544bb",
   "metadata": {},
   "outputs": [],
   "source": [
    "s = \"This is a nice way to learn Data science\""
   ]
  },
  {
   "cell_type": "code",
   "execution_count": 4,
   "id": "ae994be8-624e-4d48-b338-69091cee1c91",
   "metadata": {},
   "outputs": [],
   "source": [
    "f.close()"
   ]
  },
  {
   "cell_type": "code",
   "execution_count": 5,
   "id": "e83c5f4a-c832-4dad-b39a-4622df3df233",
   "metadata": {},
   "outputs": [],
   "source": [
    "f = open(\"harry.txt\", \"w\")"
   ]
  },
  {
   "cell_type": "code",
   "execution_count": 6,
   "id": "9e11c415-b7d5-41b7-88a7-f7e48f56518f",
   "metadata": {},
   "outputs": [
    {
     "data": {
      "text/plain": [
       "40"
      ]
     },
     "execution_count": 6,
     "metadata": {},
     "output_type": "execute_result"
    }
   ],
   "source": [
    "f.write(s)"
   ]
  },
  {
   "cell_type": "code",
   "execution_count": 7,
   "id": "326d000f-826d-430c-9072-5121ffa9e86b",
   "metadata": {},
   "outputs": [],
   "source": [
    "f.close()"
   ]
  },
  {
   "cell_type": "code",
   "execution_count": null,
   "id": "a372e103-2ea3-4081-9893-385437312553",
   "metadata": {},
   "outputs": [],
   "source": []
  }
 ],
 "metadata": {
  "kernelspec": {
   "display_name": "Python [conda env:base] *",
   "language": "python",
   "name": "conda-base-py"
  },
  "language_info": {
   "codemirror_mode": {
    "name": "ipython",
    "version": 3
   },
   "file_extension": ".py",
   "mimetype": "text/x-python",
   "name": "python",
   "nbconvert_exporter": "python",
   "pygments_lexer": "ipython3",
   "version": "3.12.7"
  }
 },
 "nbformat": 4,
 "nbformat_minor": 5
}
