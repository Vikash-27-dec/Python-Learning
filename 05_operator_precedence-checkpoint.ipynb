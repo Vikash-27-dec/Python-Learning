{
 "cells": [
  {
   "cell_type": "markdown",
   "id": "b908845e-a95b-4d32-875c-0dc0b8c5f6f7",
   "metadata": {},
   "source": [
    "OPERATOR PRECEDENCE:-\n",
    "Python follows PEMDAS(Parentheses,Exponents,Multiplication/Division,Addtion/substraction)....This is the order of opreations in Python."
   ]
  },
  {
   "cell_type": "code",
   "execution_count": 2,
   "id": "20960485-787e-480e-a770-c6c521e40cd5",
   "metadata": {},
   "outputs": [],
   "source": [
    "result= 10 + 2 * 3"
   ]
  },
  {
   "cell_type": "code",
   "execution_count": 3,
   "id": "1e39efe3-1e72-4d81-afc8-af237314d4c6",
   "metadata": {},
   "outputs": [
    {
     "data": {
      "text/plain": [
       "16"
      ]
     },
     "execution_count": 3,
     "metadata": {},
     "output_type": "execute_result"
    }
   ],
   "source": [
    "result"
   ]
  },
  {
   "cell_type": "code",
   "execution_count": 5,
   "id": "54db826d-6e11-4ff7-a749-7ddd622dbfe7",
   "metadata": {},
   "outputs": [],
   "source": [
    "a= (10+2)*3"
   ]
  },
  {
   "cell_type": "code",
   "execution_count": 7,
   "id": "fc263ced-642a-4f74-b88a-c917501f2cd4",
   "metadata": {},
   "outputs": [
    {
     "data": {
      "text/plain": [
       "36"
      ]
     },
     "execution_count": 7,
     "metadata": {},
     "output_type": "execute_result"
    }
   ],
   "source": [
    "a"
   ]
  },
  {
   "cell_type": "code",
   "execution_count": 11,
   "id": "20b0c1b1-0bed-46e2-8d9f-c7f4dc6a04e2",
   "metadata": {},
   "outputs": [],
   "source": [
    "result = 2**3 ** 2 # Right to left exponentitation: 2 **(3 ** 2) = 2**9 = 512"
   ]
  },
  {
   "cell_type": "code",
   "execution_count": 13,
   "id": "14ca2493-bb3c-45a2-bb53-190ba7c1ce59",
   "metadata": {},
   "outputs": [
    {
     "data": {
      "text/plain": [
       "512"
      ]
     },
     "execution_count": 13,
     "metadata": {},
     "output_type": "execute_result"
    }
   ],
   "source": [
    "result"
   ]
  },
  {
   "cell_type": "code",
   "execution_count": 15,
   "id": "56f492e1-536f-4c56-8ae7-5ce6c03cfc7f",
   "metadata": {},
   "outputs": [
    {
     "data": {
      "text/plain": [
       "-20.956521739130434"
      ]
     },
     "execution_count": 15,
     "metadata": {},
     "output_type": "execute_result"
    }
   ],
   "source": [
    "54*3/23+4-2**5"
   ]
  },
  {
   "cell_type": "code",
   "execution_count": 17,
   "id": "69ba4405-234c-47b8-9fe0-0b8c28ff11d3",
   "metadata": {},
   "outputs": [
    {
     "data": {
      "text/plain": [
       "-20.956521739130434"
      ]
     },
     "execution_count": 17,
     "metadata": {},
     "output_type": "execute_result"
    }
   ],
   "source": [
    "54*3/23+4-32"
   ]
  },
  {
   "cell_type": "code",
   "execution_count": 19,
   "id": "5235f582-af6d-4c49-a17d-1d1879510618",
   "metadata": {},
   "outputs": [
    {
     "data": {
      "text/plain": [
       "-20.956521739130434"
      ]
     },
     "execution_count": 19,
     "metadata": {},
     "output_type": "execute_result"
    }
   ],
   "source": [
    "162/23+4-32"
   ]
  },
  {
   "cell_type": "code",
   "execution_count": 20,
   "id": "caa2686b-bcd1-402c-99fe-012fbcfb1a00",
   "metadata": {},
   "outputs": [
    {
     "data": {
      "text/plain": [
       "-20.96"
      ]
     },
     "execution_count": 20,
     "metadata": {},
     "output_type": "execute_result"
    }
   ],
   "source": [
    "7.04+4-32"
   ]
  },
  {
   "cell_type": "code",
   "execution_count": null,
   "id": "7d6272ea-9997-4820-b1f1-4e1d80bb998c",
   "metadata": {},
   "outputs": [],
   "source": []
  }
 ],
 "metadata": {
  "kernelspec": {
   "display_name": "Python [conda env:base] *",
   "language": "python",
   "name": "conda-base-py"
  },
  "language_info": {
   "codemirror_mode": {
    "name": "ipython",
    "version": 3
   },
   "file_extension": ".py",
   "mimetype": "text/x-python",
   "name": "python",
   "nbconvert_exporter": "python",
   "pygments_lexer": "ipython3",
   "version": "3.12.7"
  }
 },
 "nbformat": 4,
 "nbformat_minor": 5
}
