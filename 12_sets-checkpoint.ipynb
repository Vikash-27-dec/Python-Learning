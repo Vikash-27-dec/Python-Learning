{
 "cells": [
  {
   "cell_type": "code",
   "execution_count": 2,
   "id": "e8ed4d00-bcfb-42d6-9c91-55bc89283865",
   "metadata": {},
   "outputs": [],
   "source": [
    "a = {}"
   ]
  },
  {
   "cell_type": "code",
   "execution_count": 4,
   "id": "a78720df-bb15-4b34-9984-c1bca94ed20a",
   "metadata": {},
   "outputs": [
    {
     "data": {
      "text/plain": [
       "dict"
      ]
     },
     "execution_count": 4,
     "metadata": {},
     "output_type": "execute_result"
    }
   ],
   "source": [
    "type(a)"
   ]
  },
  {
   "cell_type": "code",
   "execution_count": 6,
   "id": "5023b76c-87f5-4c09-979d-5449134ad114",
   "metadata": {},
   "outputs": [],
   "source": [
    "b = set()"
   ]
  },
  {
   "cell_type": "code",
   "execution_count": 8,
   "id": "5b72581b-fa94-4a09-b03d-8c3c00defbe0",
   "metadata": {},
   "outputs": [
    {
     "data": {
      "text/plain": [
       "set"
      ]
     },
     "execution_count": 8,
     "metadata": {},
     "output_type": "execute_result"
    }
   ],
   "source": [
    "type(b)"
   ]
  },
  {
   "cell_type": "code",
   "execution_count": 13,
   "id": "bd7c0d70-446c-4e11-a1ae-b6d189cb4a09",
   "metadata": {},
   "outputs": [],
   "source": [
    "s = {4,3,6,2,66,4}"
   ]
  },
  {
   "cell_type": "code",
   "execution_count": 14,
   "id": "e3b6f60e-6b3d-4d0a-a7b3-f91f917de77c",
   "metadata": {},
   "outputs": [
    {
     "data": {
      "text/plain": [
       "{2, 3, 4, 6, 66}"
      ]
     },
     "execution_count": 14,
     "metadata": {},
     "output_type": "execute_result"
    }
   ],
   "source": [
    "s"
   ]
  },
  {
   "cell_type": "code",
   "execution_count": 16,
   "id": "03e2f69f-bf5a-4829-9455-dc4b1bba7f59",
   "metadata": {},
   "outputs": [
    {
     "name": "stdout",
     "output_type": "stream",
     "text": [
      "{1, 2, 3, 4, 5}\n"
     ]
    }
   ],
   "source": [
    "# Creating a set from a list:-\n",
    "unique_numbers = set([1,2,2,3,4,4,5])\n",
    "print(unique_numbers) # {1,2,3,4,5}"
   ]
  },
  {
   "cell_type": "code",
   "execution_count": 18,
   "id": "1ee4b77c-adee-46b7-8af7-03484c26eb1a",
   "metadata": {},
   "outputs": [],
   "source": [
    "s =  {4,3,6,2,66,4}"
   ]
  },
  {
   "cell_type": "code",
   "execution_count": 19,
   "id": "9ce9d1d8-ddf2-49d3-82cf-14738ade81b2",
   "metadata": {},
   "outputs": [],
   "source": [
    "s.add(34)"
   ]
  },
  {
   "cell_type": "code",
   "execution_count": 20,
   "id": "4ded4c8c-c1cc-48f8-864f-69a103322d03",
   "metadata": {},
   "outputs": [
    {
     "data": {
      "text/plain": [
       "{2, 3, 4, 6, 34, 66}"
      ]
     },
     "execution_count": 20,
     "metadata": {},
     "output_type": "execute_result"
    }
   ],
   "source": [
    "s"
   ]
  },
  {
   "cell_type": "code",
   "execution_count": 21,
   "id": "2bc7fda5-e604-44f2-94ce-1c6984b861c5",
   "metadata": {},
   "outputs": [],
   "source": [
    "s.update([4,64,233])"
   ]
  },
  {
   "cell_type": "code",
   "execution_count": 22,
   "id": "eb30abe9-bb33-4dda-9555-ac3e1f86b7d2",
   "metadata": {},
   "outputs": [
    {
     "data": {
      "text/plain": [
       "{2, 3, 4, 6, 34, 64, 66, 233}"
      ]
     },
     "execution_count": 22,
     "metadata": {},
     "output_type": "execute_result"
    }
   ],
   "source": [
    "s"
   ]
  },
  {
   "cell_type": "code",
   "execution_count": 23,
   "id": "f9a64a3f-8082-4097-8351-adfb1b16b42a",
   "metadata": {},
   "outputs": [],
   "source": [
    "set1 = {1,2,3,4}\n",
    "set2 = {3,4,5,6}"
   ]
  },
  {
   "cell_type": "code",
   "execution_count": 24,
   "id": "4d2b154b-541a-46df-b8d3-c54af4af2a20",
   "metadata": {},
   "outputs": [
    {
     "data": {
      "text/plain": [
       "{1, 2, 3, 4, 5, 6}"
      ]
     },
     "execution_count": 24,
     "metadata": {},
     "output_type": "execute_result"
    }
   ],
   "source": [
    "set1.union(set2)"
   ]
  },
  {
   "cell_type": "code",
   "execution_count": 25,
   "id": "dca2f427-ac78-448b-9e6b-c39b00df3ea1",
   "metadata": {},
   "outputs": [
    {
     "data": {
      "text/plain": [
       "{1, 2, 3, 4}"
      ]
     },
     "execution_count": 25,
     "metadata": {},
     "output_type": "execute_result"
    }
   ],
   "source": [
    "set1"
   ]
  },
  {
   "cell_type": "code",
   "execution_count": 26,
   "id": "6be35958-6413-40f7-9907-d4eaa68178ee",
   "metadata": {},
   "outputs": [
    {
     "data": {
      "text/plain": [
       "{3, 4, 5, 6}"
      ]
     },
     "execution_count": 26,
     "metadata": {},
     "output_type": "execute_result"
    }
   ],
   "source": [
    "set2"
   ]
  },
  {
   "cell_type": "code",
   "execution_count": 27,
   "id": "d7156bb0-0d59-417e-ba0f-a9d2b51e5986",
   "metadata": {},
   "outputs": [
    {
     "data": {
      "text/plain": [
       "{3, 4}"
      ]
     },
     "execution_count": 27,
     "metadata": {},
     "output_type": "execute_result"
    }
   ],
   "source": [
    "set1.intersection(set2)"
   ]
  },
  {
   "cell_type": "code",
   "execution_count": 30,
   "id": "942858ea-17a1-4ef4-a816-a31646cfdce8",
   "metadata": {},
   "outputs": [],
   "source": [
    "sub = {1, 3}"
   ]
  },
  {
   "cell_type": "code",
   "execution_count": 32,
   "id": "e3688ecc-4690-4a37-9f0d-f2862e2e5df9",
   "metadata": {},
   "outputs": [
    {
     "data": {
      "text/plain": [
       "True"
      ]
     },
     "execution_count": 32,
     "metadata": {},
     "output_type": "execute_result"
    }
   ],
   "source": [
    "sub.issubset(set1)"
   ]
  },
  {
   "cell_type": "code",
   "execution_count": 33,
   "id": "26d6df5d-b707-4238-b401-9f35845685c1",
   "metadata": {},
   "outputs": [
    {
     "data": {
      "text/plain": [
       "True"
      ]
     },
     "execution_count": 33,
     "metadata": {},
     "output_type": "execute_result"
    }
   ],
   "source": [
    "set1.issuperset(sub)"
   ]
  },
  {
   "cell_type": "code",
   "execution_count": null,
   "id": "ec147e11-1a27-4a50-8ed7-bb8e1a62fe8d",
   "metadata": {},
   "outputs": [],
   "source": []
  }
 ],
 "metadata": {
  "kernelspec": {
   "display_name": "Python [conda env:base] *",
   "language": "python",
   "name": "conda-base-py"
  },
  "language_info": {
   "codemirror_mode": {
    "name": "ipython",
    "version": 3
   },
   "file_extension": ".py",
   "mimetype": "text/x-python",
   "name": "python",
   "nbconvert_exporter": "python",
   "pygments_lexer": "ipython3",
   "version": "3.12.7"
  }
 },
 "nbformat": 4,
 "nbformat_minor": 5
}
