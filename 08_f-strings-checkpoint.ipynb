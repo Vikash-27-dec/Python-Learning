{
 "cells": [
  {
   "cell_type": "code",
   "execution_count": 23,
   "id": "407f41fb-74dc-4a10-94e4-58c175595582",
   "metadata": {},
   "outputs": [
    {
     "name": "stdout",
     "output_type": "stream",
     "text": [
      "My name is john and I am 55 years old.\n"
     ]
    }
   ],
   "source": [
    "name = \"john\"\n",
    "age = 55\n",
    "print(\"My name is {} and I am {} years old.\".format(name , age)) #This is old version.basically used in making of templates.\n"
   ]
  },
  {
   "cell_type": "code",
   "execution_count": 25,
   "id": "418840b1-bb6b-46e3-bc03-5b5b79e54b1b",
   "metadata": {},
   "outputs": [
    {
     "name": "stdout",
     "output_type": "stream",
     "text": [
      "My name is john and I am 55 years old.\n"
     ]
    }
   ],
   "source": [
    "print(f\"My name is {name} and I am {age} years old.\") #But after python 3.6 onwards mainly we use this."
   ]
  },
  {
   "cell_type": "code",
   "execution_count": 27,
   "id": "7e2817fe-568f-496a-81b2-65918d04885d",
   "metadata": {},
   "outputs": [],
   "source": [
    "#Expressions inside f-Strings"
   ]
  },
  {
   "cell_type": "code",
   "execution_count": 30,
   "id": "13ff8525-857a-4448-b7e7-b39937f084d8",
   "metadata": {},
   "outputs": [],
   "source": [
    "a= 5\n",
    "b= 10"
   ]
  },
  {
   "cell_type": "code",
   "execution_count": 33,
   "id": "51267069-741a-4635-9171-149e610ca254",
   "metadata": {},
   "outputs": [
    {
     "name": "stdout",
     "output_type": "stream",
     "text": [
      "sum of 5 and 10 is 15\n"
     ]
    }
   ],
   "source": [
    "print(f\"sum of {a} and {b} is {a + b}\")"
   ]
  },
  {
   "cell_type": "code",
   "execution_count": 35,
   "id": "50a102db-673c-4bff-8840-178b120ed4b0",
   "metadata": {},
   "outputs": [],
   "source": [
    "# Formatting Numbers:-"
   ]
  },
  {
   "cell_type": "code",
   "execution_count": 37,
   "id": "99c2e730-1c89-4935-9e5b-92c3434e4831",
   "metadata": {},
   "outputs": [
    {
     "name": "stdout",
     "output_type": "stream",
     "text": [
      "Pi rounded to 2 decimal places: 3.14\n"
     ]
    }
   ],
   "source": [
    "pi = 3.14159\n",
    "print(f\"Pi rounded to 2 decimal places: {pi:.2f}\")"
   ]
  },
  {
   "cell_type": "code",
   "execution_count": 39,
   "id": "8db5ede2-b1bb-47af-8cf5-0fa36e05e2e5",
   "metadata": {},
   "outputs": [],
   "source": [
    "# Padding and Alignment:- used in making command line games."
   ]
  },
  {
   "cell_type": "code",
   "execution_count": 43,
   "id": "6358cf4b-90c1-4d43-b9cc-abf01deac593",
   "metadata": {},
   "outputs": [
    {
     "name": "stdout",
     "output_type": "stream",
     "text": [
      "Python              \n",
      "              Python\n",
      "       Python       \n"
     ]
    }
   ],
   "source": [
    "print(f\"{'Python':<20}\")\n",
    "print(f\"{'Python':>20}\")\n",
    "print(f\"{'Python':^20}\")\n"
   ]
  },
  {
   "cell_type": "code",
   "execution_count": null,
   "id": "a3971c54-fa4a-48b7-bc64-41902d78ffb9",
   "metadata": {},
   "outputs": [],
   "source": []
  }
 ],
 "metadata": {
  "kernelspec": {
   "display_name": "Python [conda env:base] *",
   "language": "python",
   "name": "conda-base-py"
  },
  "language_info": {
   "codemirror_mode": {
    "name": "ipython",
    "version": 3
   },
   "file_extension": ".py",
   "mimetype": "text/x-python",
   "name": "python",
   "nbconvert_exporter": "python",
   "pygments_lexer": "ipython3",
   "version": "3.12.7"
  }
 },
 "nbformat": 4,
 "nbformat_minor": 5
}
