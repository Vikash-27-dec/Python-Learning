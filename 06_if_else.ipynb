{
 "cells": [
  {
   "cell_type": "code",
   "execution_count": 22,
   "id": "2669c8d7-b69a-422e-bcac-7a69e3029fcd",
   "metadata": {},
   "outputs": [],
   "source": [
    "a = 4"
   ]
  },
  {
   "cell_type": "code",
   "execution_count": 24,
   "id": "0e32dc31-849b-476f-9bc7-8b48d1b93fbd",
   "metadata": {},
   "outputs": [
    {
     "name": "stdout",
     "output_type": "stream",
     "text": [
      "Smaller\n"
     ]
    }
   ],
   "source": [
    "if(a > 53):\n",
    "    print(\"Greater\")\n",
    "else:\n",
    "    print(\"Smaller\")"
   ]
  },
  {
   "cell_type": "code",
   "execution_count": 26,
   "id": "7c3b0ea3-df70-4f46-8bc5-52534863c23b",
   "metadata": {},
   "outputs": [],
   "source": [
    "# IF ELIF ELSE LADDER:-"
   ]
  },
  {
   "cell_type": "code",
   "execution_count": 28,
   "id": "c4991de3-8f4d-472b-9692-36433da5b7d0",
   "metadata": {},
   "outputs": [],
   "source": [
    "a = 41"
   ]
  },
  {
   "cell_type": "code",
   "execution_count": 30,
   "id": "a1a71469-e585-47de-8687-7a211fb06d76",
   "metadata": {},
   "outputs": [
    {
     "name": "stdout",
     "output_type": "stream",
     "text": [
      "Greater than 40\n"
     ]
    }
   ],
   "source": [
    "if a>50:\n",
    "    print(\"Greater than 50\")\n",
    "elif(a>40):\n",
    "    print(\"Greater than 40\")\n",
    "elif(a>30):\n",
    "    print(\"Greater than 30\")\n",
    "else:\n",
    "    print(\"Done!\")"
   ]
  },
  {
   "cell_type": "markdown",
   "id": "d39b62a2-e040-45cb-9915-c89c39688fae",
   "metadata": {},
   "source": [
    "Functions in Python:-"
   ]
  },
  {
   "cell_type": "code",
   "execution_count": 32,
   "id": "4bb67d38-d8d4-4e24-bbad-fc7db76c56e2",
   "metadata": {},
   "outputs": [],
   "source": [
    "def avg(a,b):\n",
    "    return (a+b)/2"
   ]
  },
  {
   "cell_type": "code",
   "execution_count": 34,
   "id": "96ec0155-85ea-49f9-a700-e18f9b28311f",
   "metadata": {},
   "outputs": [
    {
     "data": {
      "text/plain": [
       "5.0"
      ]
     },
     "execution_count": 34,
     "metadata": {},
     "output_type": "execute_result"
    }
   ],
   "source": [
    "avg(4,6)"
   ]
  },
  {
   "cell_type": "code",
   "execution_count": 40,
   "id": "7f9be4c4-5b49-488a-917e-ba81f6c75b6e",
   "metadata": {},
   "outputs": [],
   "source": [
    "def avg(a,b=14):\n",
    "    return (a+b)/2"
   ]
  },
  {
   "cell_type": "code",
   "execution_count": 41,
   "id": "bd781f9e-89c4-479f-86b9-cf5e35af0fb7",
   "metadata": {},
   "outputs": [
    {
     "data": {
      "text/plain": [
       "9.0"
      ]
     },
     "execution_count": 41,
     "metadata": {},
     "output_type": "execute_result"
    }
   ],
   "source": [
    "avg(4)"
   ]
  },
  {
   "cell_type": "code",
   "execution_count": 43,
   "id": "5b22c6ac-cb70-456b-a64c-b9596bed4b43",
   "metadata": {},
   "outputs": [],
   "source": [
    "def greet():\n",
    "    print(\"Hello good morning\")"
   ]
  },
  {
   "cell_type": "code",
   "execution_count": 44,
   "id": "dd067669-4967-4530-b73a-300438e64a6a",
   "metadata": {},
   "outputs": [
    {
     "name": "stdout",
     "output_type": "stream",
     "text": [
      "Hello good morning\n"
     ]
    }
   ],
   "source": [
    "greet()"
   ]
  },
  {
   "cell_type": "code",
   "execution_count": 45,
   "id": "912a4134-26f0-47cd-833a-18026d68e1bc",
   "metadata": {},
   "outputs": [],
   "source": [
    "None"
   ]
  },
  {
   "cell_type": "markdown",
   "id": "fd5e4836-9a2e-4ead-9239-bc7db7149d94",
   "metadata": {},
   "source": [
    "Use if-else in Data Science:- Condtional statements are widely used in data science for filtering,cleaning, and decision-making."
   ]
  },
  {
   "cell_type": "code",
   "execution_count": 2,
   "id": "2a307e21-86c3-417e-a626-ff4c5ca4c580",
   "metadata": {},
   "outputs": [
    {
     "name": "stdout",
     "output_type": "stream",
     "text": [
      "Category: Adult\n"
     ]
    }
   ],
   "source": [
    "age = 25\n",
    "if age < 18:\n",
    "    category = \"Minor\"\n",
    "elif age < 65:\n",
    "    category = \"Adult\"\n",
    "else:\n",
    "    category = \"Senior Citizen\"\n",
    "\n",
    "print(\"Category:\", category)"
   ]
  },
  {
   "cell_type": "code",
   "execution_count": null,
   "id": "472b253a-2d46-4c27-ad5c-a71d9a472fd6",
   "metadata": {},
   "outputs": [],
   "source": []
  }
 ],
 "metadata": {
  "kernelspec": {
   "display_name": "Python [conda env:base] *",
   "language": "python",
   "name": "conda-base-py"
  },
  "language_info": {
   "codemirror_mode": {
    "name": "ipython",
    "version": 3
   },
   "file_extension": ".py",
   "mimetype": "text/x-python",
   "name": "python",
   "nbconvert_exporter": "python",
   "pygments_lexer": "ipython3",
   "version": "3.12.7"
  }
 },
 "nbformat": 4,
 "nbformat_minor": 5
}
