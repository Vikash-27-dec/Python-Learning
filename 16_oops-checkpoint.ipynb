{
 "cells": [
  {
   "cell_type": "code",
   "execution_count": 6,
   "id": "b7923623-99ec-4289-a043-a0c59cad87c8",
   "metadata": {},
   "outputs": [
    {
     "name": "stdout",
     "output_type": "stream",
     "text": [
      "The company of Vikash is HP with salary $47000\n"
     ]
    }
   ],
   "source": [
    "class Employee:\n",
    "    company = \"HP\"\n",
    "\n",
    "    def __init__(self, name, salary):\n",
    "        self.name = name\n",
    "        self.salary = salary\n",
    "\n",
    "    def printDetails(self):\n",
    "        print(f\"The company of {self.name} is {self.company} with salary ${self.salary}\")\n",
    "        \n",
    "\n",
    "e = Employee(\"Vikash\", 47000)\n",
    "e.printDetails()\n"
   ]
  },
  {
   "cell_type": "code",
   "execution_count": 9,
   "id": "93e13df7-8375-4284-bada-a541d4184d9a",
   "metadata": {},
   "outputs": [
    {
     "name": "stdout",
     "output_type": "stream",
     "text": [
      "The company of Vikash is HP with salary $47000\n",
      "The time is now\n",
      "The company is HP\n"
     ]
    }
   ],
   "source": [
    "class Employee:\n",
    "    company = \"HP\"\n",
    "\n",
    "    def __init__(self, name, salary):\n",
    "        self.name = name\n",
    "        self.salary = salary\n",
    "\n",
    "    def printDetails(self):\n",
    "        print(f\"The company of {self.name} is {self.company} with salary ${self.salary}\")\n",
    "\n",
    "    @staticmethod\n",
    "    def printTime():\n",
    "        print(\"The time is now\")\n",
    "\n",
    "    @classmethod\n",
    "    def printClassDetails(cls):\n",
    "        print(f\"The company is {cls.company}\")\n",
    "\n",
    "e = Employee(\"Vikash\", 47000)\n",
    "e.printDetails()\n",
    "e.printTime()  # OR Employee.printTime()\n",
    "e.printClassDetails()\n"
   ]
  },
  {
   "cell_type": "code",
   "execution_count": null,
   "id": "6210421e-fce9-4e19-8df8-28b445da4f3a",
   "metadata": {},
   "outputs": [],
   "source": []
  }
 ],
 "metadata": {
  "kernelspec": {
   "display_name": "Python [conda env:base] *",
   "language": "python",
   "name": "conda-base-py"
  },
  "language_info": {
   "codemirror_mode": {
    "name": "ipython",
    "version": 3
   },
   "file_extension": ".py",
   "mimetype": "text/x-python",
   "name": "python",
   "nbconvert_exporter": "python",
   "pygments_lexer": "ipython3",
   "version": "3.12.7"
  }
 },
 "nbformat": 4,
 "nbformat_minor": 5
}
