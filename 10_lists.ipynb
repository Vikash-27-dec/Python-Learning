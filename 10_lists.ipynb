{
 "cells": [
  {
   "cell_type": "code",
   "execution_count": 1,
   "id": "73b62931-8bf5-4046-a026-f9da473a5666",
   "metadata": {},
   "outputs": [],
   "source": [
    "l = [3,5,23,3]"
   ]
  },
  {
   "cell_type": "code",
   "execution_count": 2,
   "id": "b6b99fe7-9ae3-4c77-8f04-596ac90f13ff",
   "metadata": {},
   "outputs": [
    {
     "data": {
      "text/plain": [
       "3"
      ]
     },
     "execution_count": 2,
     "metadata": {},
     "output_type": "execute_result"
    }
   ],
   "source": [
    "l[0]"
   ]
  },
  {
   "cell_type": "code",
   "execution_count": 3,
   "id": "9e75ac62-dd14-45af-a3a6-ebd7fdb9851b",
   "metadata": {},
   "outputs": [],
   "source": [
    "l[0]= 81"
   ]
  },
  {
   "cell_type": "code",
   "execution_count": 4,
   "id": "befefa0b-1d4e-4399-a686-7d0cce16c92b",
   "metadata": {},
   "outputs": [
    {
     "data": {
      "text/plain": [
       "[81, 5, 23, 3]"
      ]
     },
     "execution_count": 4,
     "metadata": {},
     "output_type": "execute_result"
    }
   ],
   "source": [
    "l"
   ]
  },
  {
   "cell_type": "code",
   "execution_count": 5,
   "id": "afd69833-585a-46e3-98cb-9d17d6d3138c",
   "metadata": {},
   "outputs": [],
   "source": [
    "l.append(9)"
   ]
  },
  {
   "cell_type": "code",
   "execution_count": 6,
   "id": "5857c21f-eae8-4898-bbad-78055fd1bb01",
   "metadata": {},
   "outputs": [
    {
     "data": {
      "text/plain": [
       "[81, 5, 23, 3, 9]"
      ]
     },
     "execution_count": 6,
     "metadata": {},
     "output_type": "execute_result"
    }
   ],
   "source": [
    "l"
   ]
  },
  {
   "cell_type": "code",
   "execution_count": 7,
   "id": "c984419e-4951-4898-8825-b8203dc1bbab",
   "metadata": {},
   "outputs": [],
   "source": [
    "l2 = (5,7)"
   ]
  },
  {
   "cell_type": "code",
   "execution_count": 8,
   "id": "718382df-e133-47ea-96ff-b7b3cb3b5bd2",
   "metadata": {},
   "outputs": [],
   "source": [
    "l.extend(l2)"
   ]
  },
  {
   "cell_type": "code",
   "execution_count": 9,
   "id": "cd40af07-8cab-451d-bd31-62ea25e56026",
   "metadata": {},
   "outputs": [
    {
     "data": {
      "text/plain": [
       "[81, 5, 23, 3, 9, 5, 7]"
      ]
     },
     "execution_count": 9,
     "metadata": {},
     "output_type": "execute_result"
    }
   ],
   "source": [
    "l"
   ]
  },
  {
   "cell_type": "code",
   "execution_count": 10,
   "id": "bd45519e-c3f9-4114-aae3-40abf974374a",
   "metadata": {},
   "outputs": [],
   "source": [
    "l.insert(1,200) #Insert 200 at index 1."
   ]
  },
  {
   "cell_type": "code",
   "execution_count": 11,
   "id": "9056385d-b8bb-4ea6-94d3-20b14e82d897",
   "metadata": {},
   "outputs": [
    {
     "data": {
      "text/plain": [
       "[81, 200, 5, 23, 3, 9, 5, 7]"
      ]
     },
     "execution_count": 11,
     "metadata": {},
     "output_type": "execute_result"
    }
   ],
   "source": [
    "l"
   ]
  },
  {
   "cell_type": "code",
   "execution_count": 12,
   "id": "b42dc4d1-23f3-4c60-ba17-40e4fc11e3cb",
   "metadata": {},
   "outputs": [],
   "source": [
    "number = l.pop(4)"
   ]
  },
  {
   "cell_type": "code",
   "execution_count": 13,
   "id": "98d91582-e6ee-4ee1-a4d9-8e506c3ce151",
   "metadata": {},
   "outputs": [
    {
     "data": {
      "text/plain": [
       "3"
      ]
     },
     "execution_count": 13,
     "metadata": {},
     "output_type": "execute_result"
    }
   ],
   "source": [
    "number"
   ]
  },
  {
   "cell_type": "code",
   "execution_count": 14,
   "id": "b1e9fa41-3590-4991-85ec-7c303cc3e2ae",
   "metadata": {},
   "outputs": [
    {
     "data": {
      "text/plain": [
       "[81, 200, 5, 23, 9, 5, 7]"
      ]
     },
     "execution_count": 14,
     "metadata": {},
     "output_type": "execute_result"
    }
   ],
   "source": [
    "l"
   ]
  },
  {
   "cell_type": "code",
   "execution_count": 15,
   "id": "fc45d44e-4581-4df2-97d8-adacac1667c7",
   "metadata": {},
   "outputs": [
    {
     "data": {
      "text/plain": [
       "0"
      ]
     },
     "execution_count": 15,
     "metadata": {},
     "output_type": "execute_result"
    }
   ],
   "source": [
    "l.index(81)"
   ]
  },
  {
   "cell_type": "code",
   "execution_count": 16,
   "id": "e677ff25-f369-469d-af28-24e5bfce581a",
   "metadata": {},
   "outputs": [
    {
     "data": {
      "text/plain": [
       "3"
      ]
     },
     "execution_count": 16,
     "metadata": {},
     "output_type": "execute_result"
    }
   ],
   "source": [
    "l.index(23)"
   ]
  },
  {
   "cell_type": "code",
   "execution_count": 17,
   "id": "07140ba6-eba2-455f-8d34-b4cfd5796c29",
   "metadata": {},
   "outputs": [],
   "source": [
    "l.append(4)"
   ]
  },
  {
   "cell_type": "code",
   "execution_count": 18,
   "id": "d17efcfe-d17c-4ba0-b794-11a3b1565e22",
   "metadata": {},
   "outputs": [
    {
     "data": {
      "text/plain": [
       "[81, 200, 5, 23, 9, 5, 7, 4]"
      ]
     },
     "execution_count": 18,
     "metadata": {},
     "output_type": "execute_result"
    }
   ],
   "source": [
    "l"
   ]
  },
  {
   "cell_type": "code",
   "execution_count": 20,
   "id": "5ba4d226-04bc-4f27-8f58-3a7cc5bac84e",
   "metadata": {},
   "outputs": [
    {
     "data": {
      "text/plain": [
       "2"
      ]
     },
     "execution_count": 20,
     "metadata": {},
     "output_type": "execute_result"
    }
   ],
   "source": [
    "l.count(5)"
   ]
  },
  {
   "cell_type": "code",
   "execution_count": 22,
   "id": "0959f97f-d0cd-40ea-9f02-8ec299c9c872",
   "metadata": {},
   "outputs": [],
   "source": [
    "l.sort() # chnages and sorts the original list in ascending order."
   ]
  },
  {
   "cell_type": "code",
   "execution_count": 24,
   "id": "500ff355-02db-4f24-af3e-2f03cb7bd663",
   "metadata": {},
   "outputs": [
    {
     "data": {
      "text/plain": [
       "[4, 5, 5, 7, 9, 23, 81, 200]"
      ]
     },
     "execution_count": 24,
     "metadata": {},
     "output_type": "execute_result"
    }
   ],
   "source": [
    "l"
   ]
  },
  {
   "cell_type": "code",
   "execution_count": 25,
   "id": "3dd23916-3c47-46f0-867e-338cd9608a30",
   "metadata": {},
   "outputs": [
    {
     "data": {
      "text/plain": [
       "[4, 5, 5, 7, 9, 23, 81, 200]"
      ]
     },
     "execution_count": 25,
     "metadata": {},
     "output_type": "execute_result"
    }
   ],
   "source": [
    "sorted(l)"
   ]
  },
  {
   "cell_type": "code",
   "execution_count": 27,
   "id": "a4000594-713f-48c4-a39b-68f85fbc52ff",
   "metadata": {},
   "outputs": [],
   "source": [
    "newl = [2,6,1,21,6]"
   ]
  },
  {
   "cell_type": "code",
   "execution_count": 64,
   "id": "4c61f499-d404-4358-858f-f3dfecad9541",
   "metadata": {},
   "outputs": [
    {
     "data": {
      "text/plain": [
       "[1, 2, 6, 6, 21]"
      ]
     },
     "execution_count": 64,
     "metadata": {},
     "output_type": "execute_result"
    }
   ],
   "source": [
    "sorted(newl) # Returns a new list which is sorted version of original list.{we use sorted when we want to keep the original list safe and work with a new sorted version."
   ]
  },
  {
   "cell_type": "code",
   "execution_count": 29,
   "id": "641c04b3-ba46-4c7e-85a3-9309d4932ca4",
   "metadata": {},
   "outputs": [
    {
     "data": {
      "text/plain": [
       "[2, 6, 1, 21, 6]"
      ]
     },
     "execution_count": 29,
     "metadata": {},
     "output_type": "execute_result"
    }
   ],
   "source": [
    "newl"
   ]
  },
  {
   "cell_type": "code",
   "execution_count": 33,
   "id": "d76fcbef-da13-425a-b704-58a8b91eb04b",
   "metadata": {},
   "outputs": [],
   "source": [
    "#Nested List:-list of list."
   ]
  },
  {
   "cell_type": "code",
   "execution_count": 35,
   "id": "ebf39423-b3cf-4434-89ad-a5dfa9097013",
   "metadata": {},
   "outputs": [],
   "source": [
    "y = [1,2,True,False,[4,7]]"
   ]
  },
  {
   "cell_type": "code",
   "execution_count": 37,
   "id": "75e8f9ad-9aa6-4b61-8da9-1e5aa9edbead",
   "metadata": {},
   "outputs": [
    {
     "data": {
      "text/plain": [
       "[1, 2, True, False, [4, 7]]"
      ]
     },
     "execution_count": 37,
     "metadata": {},
     "output_type": "execute_result"
    }
   ],
   "source": [
    "y"
   ]
  },
  {
   "cell_type": "code",
   "execution_count": 39,
   "id": "37fff4e1-0fc8-4dc5-b222-06a1fa119ae9",
   "metadata": {},
   "outputs": [
    {
     "data": {
      "text/plain": [
       "[4, 7]"
      ]
     },
     "execution_count": 39,
     "metadata": {},
     "output_type": "execute_result"
    }
   ],
   "source": [
    "y[4]"
   ]
  },
  {
   "cell_type": "code",
   "execution_count": 44,
   "id": "9ebbf188-7be3-405e-9af0-a4f667364b90",
   "metadata": {},
   "outputs": [
    {
     "data": {
      "text/plain": [
       "4"
      ]
     },
     "execution_count": 44,
     "metadata": {},
     "output_type": "execute_result"
    }
   ],
   "source": [
    "y[4][0]"
   ]
  },
  {
   "cell_type": "code",
   "execution_count": 48,
   "id": "c3f219ac-7911-41bc-bec8-f45961fe8e1e",
   "metadata": {},
   "outputs": [],
   "source": [
    "# List concatination using (+) operator:-"
   ]
  },
  {
   "cell_type": "code",
   "execution_count": 47,
   "id": "5b55ac5b-5fdc-45ff-b12f-5097a9627892",
   "metadata": {},
   "outputs": [],
   "source": [
    "list1 = [4,32,12]"
   ]
  },
  {
   "cell_type": "code",
   "execution_count": 49,
   "id": "cea4a73d-ff68-4ecc-b4b9-aa4758f95a89",
   "metadata": {},
   "outputs": [],
   "source": [
    "list2 = [3,1,18]"
   ]
  },
  {
   "cell_type": "code",
   "execution_count": 50,
   "id": "834cc6e3-f994-444f-8db6-f5699ff9dea6",
   "metadata": {},
   "outputs": [
    {
     "data": {
      "text/plain": [
       "[4, 32, 12, 3, 1, 18]"
      ]
     },
     "execution_count": 50,
     "metadata": {},
     "output_type": "execute_result"
    }
   ],
   "source": [
    "list1 + list2"
   ]
  },
  {
   "cell_type": "code",
   "execution_count": 53,
   "id": "1efb03bc-21ae-45e5-b1e8-aca81de69412",
   "metadata": {},
   "outputs": [
    {
     "data": {
      "text/plain": [
       "[4, 32, 12]"
      ]
     },
     "execution_count": 53,
     "metadata": {},
     "output_type": "execute_result"
    }
   ],
   "source": [
    "list1 #no changes."
   ]
  },
  {
   "cell_type": "code",
   "execution_count": 54,
   "id": "0b7514f2-1401-4c98-bf3b-07838725c32d",
   "metadata": {},
   "outputs": [
    {
     "data": {
      "text/plain": [
       "[3, 1, 18]"
      ]
     },
     "execution_count": 54,
     "metadata": {},
     "output_type": "execute_result"
    }
   ],
   "source": [
    "list2 #no chnges."
   ]
  },
  {
   "cell_type": "code",
   "execution_count": 55,
   "id": "29357919-31f4-491a-b1ea-f26308ba2af0",
   "metadata": {},
   "outputs": [],
   "source": [
    "if 33 in list2:\n",
    "    print(\"Yes\")"
   ]
  },
  {
   "cell_type": "code",
   "execution_count": 57,
   "id": "0360d6a7-2bf4-4e76-bb69-b18b51c41a22",
   "metadata": {},
   "outputs": [
    {
     "data": {
      "text/plain": [
       "False"
      ]
     },
     "execution_count": 57,
     "metadata": {},
     "output_type": "execute_result"
    }
   ],
   "source": [
    "33 in list2"
   ]
  },
  {
   "cell_type": "code",
   "execution_count": 59,
   "id": "7afc302a-bbaf-4e4c-a3a3-d495736fee37",
   "metadata": {},
   "outputs": [],
   "source": [
    "#Spliting a string function into a list:-"
   ]
  },
  {
   "cell_type": "code",
   "execution_count": 61,
   "id": "b11150ee-4902-4ca3-9ebf-280c5423d0ff",
   "metadata": {},
   "outputs": [],
   "source": [
    "s= \"jack-jill-shubham-kirti-javed-salman-akshay\""
   ]
  },
  {
   "cell_type": "code",
   "execution_count": 62,
   "id": "ff527327-2cc0-4c3d-babd-6a9872c2d51b",
   "metadata": {},
   "outputs": [
    {
     "data": {
      "text/plain": [
       "['jack-jill-shubham-kirti-javed-salman-akshay']"
      ]
     },
     "execution_count": 62,
     "metadata": {},
     "output_type": "execute_result"
    }
   ],
   "source": [
    "s.split(\"_\")"
   ]
  },
  {
   "cell_type": "code",
   "execution_count": 63,
   "id": "3e0f7258-24d7-44a2-8b63-7f793c2e86b9",
   "metadata": {},
   "outputs": [],
   "source": [
    "#Done"
   ]
  }
 ],
 "metadata": {
  "kernelspec": {
   "display_name": "Python [conda env:base] *",
   "language": "python",
   "name": "conda-base-py"
  },
  "language_info": {
   "codemirror_mode": {
    "name": "ipython",
    "version": 3
   },
   "file_extension": ".py",
   "mimetype": "text/x-python",
   "name": "python",
   "nbconvert_exporter": "python",
   "pygments_lexer": "ipython3",
   "version": "3.12.7"
  }
 },
 "nbformat": 4,
 "nbformat_minor": 5
}
