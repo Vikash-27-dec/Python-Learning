{
 "cells": [
  {
   "cell_type": "markdown",
   "id": "7bda51e7-47dd-44b0-80d7-a50818bad135",
   "metadata": {},
   "source": [
    "Taking input from the user"
   ]
  },
  {
   "cell_type": "code",
   "execution_count": 9,
   "id": "7ac21704-b2c3-49f6-86a2-56ae15e13331",
   "metadata": {},
   "outputs": [
    {
     "name": "stdin",
     "output_type": "stream",
     "text": [
      "Enter the value of a 45\n"
     ]
    }
   ],
   "source": [
    "a = input(\"Enter the value of a\") #By the default it takes user input as string."
   ]
  },
  {
   "cell_type": "code",
   "execution_count": 11,
   "id": "caf6b9e5-ecf2-43ec-9976-5b1512565c3e",
   "metadata": {},
   "outputs": [
    {
     "name": "stdin",
     "output_type": "stream",
     "text": [
      "Enter the value of b 4\n"
     ]
    }
   ],
   "source": [
    "b = input(\"Enter the value of b\")"
   ]
  },
  {
   "cell_type": "code",
   "execution_count": 12,
   "id": "7f919ed6-d30e-4eeb-9a6e-ef2752fa5fc5",
   "metadata": {},
   "outputs": [
    {
     "data": {
      "text/plain": [
       "'4'"
      ]
     },
     "execution_count": 12,
     "metadata": {},
     "output_type": "execute_result"
    }
   ],
   "source": [
    "b"
   ]
  },
  {
   "cell_type": "code",
   "execution_count": 13,
   "id": "c028d5d5-0bca-4b3d-ac8a-b55eddecdd1c",
   "metadata": {},
   "outputs": [
    {
     "data": {
      "text/plain": [
       "'454'"
      ]
     },
     "execution_count": 13,
     "metadata": {},
     "output_type": "execute_result"
    }
   ],
   "source": [
    "a + b"
   ]
  },
  {
   "cell_type": "code",
   "execution_count": 14,
   "id": "c1149693-3426-4d14-ad1d-ad2070f81f07",
   "metadata": {},
   "outputs": [
    {
     "data": {
      "text/plain": [
       "49"
      ]
     },
     "execution_count": 14,
     "metadata": {},
     "output_type": "execute_result"
    }
   ],
   "source": [
    "int(a) + int(b)"
   ]
  },
  {
   "cell_type": "markdown",
   "id": "6467c2f6-9d19-419d-ae39-add748db0be7",
   "metadata": {},
   "source": [
    "We can also write this as:-"
   ]
  },
  {
   "cell_type": "code",
   "execution_count": 2,
   "id": "339331cc-6512-4ab1-b0df-2cc52c0f6643",
   "metadata": {},
   "outputs": [
    {
     "name": "stdin",
     "output_type": "stream",
     "text": [
      " 67\n"
     ]
    }
   ],
   "source": [
    "c = input()"
   ]
  },
  {
   "cell_type": "code",
   "execution_count": 4,
   "id": "3e43dc4a-fca0-45b8-b7ea-3ffd85b66412",
   "metadata": {},
   "outputs": [
    {
     "data": {
      "text/plain": [
       "'67'"
      ]
     },
     "execution_count": 4,
     "metadata": {},
     "output_type": "execute_result"
    }
   ],
   "source": [
    "c"
   ]
  },
  {
   "cell_type": "markdown",
   "id": "9cfbc76a-724a-4b39-9e9a-e4e3839435f1",
   "metadata": {},
   "source": [
    "STRING FORMATTING(f-strings)-"
   ]
  },
  {
   "cell_type": "code",
   "execution_count": 11,
   "id": "ebb801d5-d8df-4e93-8358-93d3697743bd",
   "metadata": {},
   "outputs": [],
   "source": [
    "name = \"Vikash\""
   ]
  },
  {
   "cell_type": "code",
   "execution_count": 13,
   "id": "7fcc478b-7810-4572-b7b8-9f6e17f5efda",
   "metadata": {},
   "outputs": [],
   "source": [
    "age = 19"
   ]
  },
  {
   "cell_type": "code",
   "execution_count": 14,
   "id": "90e75e7f-ed8d-41b0-8b55-672330790ee0",
   "metadata": {},
   "outputs": [
    {
     "data": {
      "text/plain": [
       "'Hello, Vikash. You are 19 years old.'"
      ]
     },
     "execution_count": 14,
     "metadata": {},
     "output_type": "execute_result"
    }
   ],
   "source": [
    "f\"Hello, {name}. You are {age} years old.\""
   ]
  }
 ],
 "metadata": {
  "kernelspec": {
   "display_name": "Python [conda env:base] *",
   "language": "python",
   "name": "conda-base-py"
  },
  "language_info": {
   "codemirror_mode": {
    "name": "ipython",
    "version": 3
   },
   "file_extension": ".py",
   "mimetype": "text/x-python",
   "name": "python",
   "nbconvert_exporter": "python",
   "pygments_lexer": "ipython3",
   "version": "3.12.7"
  }
 },
 "nbformat": 4,
 "nbformat_minor": 5
}
