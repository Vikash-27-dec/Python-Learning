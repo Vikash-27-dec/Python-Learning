{
 "cells": [
  {
   "cell_type": "code",
   "execution_count": 40,
   "id": "cfbee1a2-1b87-4f68-9d19-260bdc405694",
   "metadata": {},
   "outputs": [],
   "source": [
    "import json"
   ]
  },
  {
   "cell_type": "code",
   "execution_count": 41,
   "id": "2c81439a-392f-40c6-8ec0-98a89d0d556c",
   "metadata": {},
   "outputs": [],
   "source": [
    "d = json.loads('{\"name\": \"Alice\",\"company\": \"IBM\", \"salary\": 45000}')"
   ]
  },
  {
   "cell_type": "code",
   "execution_count": 42,
   "id": "279a5f1e-5c0e-48c2-99f0-6de92f0e4dab",
   "metadata": {},
   "outputs": [],
   "source": [
    "with open(\"data.json\", \"w\") as file:\n",
    "    json.dump(d, file, indent=4)"
   ]
  },
  {
   "cell_type": "code",
   "execution_count": 44,
   "id": "3b6419e8-efb4-4d59-97a7-35c735a1d3b6",
   "metadata": {},
   "outputs": [],
   "source": [
    "import json"
   ]
  },
  {
   "cell_type": "code",
   "execution_count": 45,
   "id": "5733f004-b374-41bf-8c06-a07e686b7899",
   "metadata": {},
   "outputs": [
    {
     "name": "stdout",
     "output_type": "stream",
     "text": [
      "{\"name\": \"Alice\", \"company\": \"IBM\", \"salary\": 45000}\n"
     ]
    }
   ],
   "source": [
    "obj = {\"name\": \"Alice\", \"company\": \"IBM\", \"salary\": 45000}\n",
    "s = json.dumps(obj)\n",
    "type(s)\n",
    "print(s)"
   ]
  }
 ],
 "metadata": {
  "kernelspec": {
   "display_name": "Python [conda env:base] *",
   "language": "python",
   "name": "conda-base-py"
  },
  "language_info": {
   "codemirror_mode": {
    "name": "ipython",
    "version": 3
   },
   "file_extension": ".py",
   "mimetype": "text/x-python",
   "name": "python",
   "nbconvert_exporter": "python",
   "pygments_lexer": "ipython3",
   "version": "3.12.7"
  }
 },
 "nbformat": 4,
 "nbformat_minor": 5
}
