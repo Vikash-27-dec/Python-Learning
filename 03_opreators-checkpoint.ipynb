{
 "cells": [
  {
   "cell_type": "code",
   "execution_count": 1,
   "id": "247cc107-6922-43fb-9cf6-49d29b70ee04",
   "metadata": {},
   "outputs": [],
   "source": [
    "a= 10"
   ]
  },
  {
   "cell_type": "code",
   "execution_count": 2,
   "id": "e34da0b6-976a-4f3d-9cd4-cabae8269f84",
   "metadata": {},
   "outputs": [],
   "source": [
    "b= 2"
   ]
  },
  {
   "cell_type": "code",
   "execution_count": 3,
   "id": "f2397d75-4b7a-49a5-9f7c-304c536dd5a1",
   "metadata": {},
   "outputs": [
    {
     "data": {
      "text/plain": [
       "12"
      ]
     },
     "execution_count": 3,
     "metadata": {},
     "output_type": "execute_result"
    }
   ],
   "source": [
    "a+b"
   ]
  },
  {
   "cell_type": "code",
   "execution_count": 4,
   "id": "28f0f321-0c84-4715-8c29-2ebdaeb581a0",
   "metadata": {},
   "outputs": [
    {
     "data": {
      "text/plain": [
       "8"
      ]
     },
     "execution_count": 4,
     "metadata": {},
     "output_type": "execute_result"
    }
   ],
   "source": [
    "a-b"
   ]
  },
  {
   "cell_type": "code",
   "execution_count": 5,
   "id": "a1e6f0b5-88e1-4466-962d-e84dccf2332e",
   "metadata": {},
   "outputs": [
    {
     "data": {
      "text/plain": [
       "20"
      ]
     },
     "execution_count": 5,
     "metadata": {},
     "output_type": "execute_result"
    }
   ],
   "source": [
    "a*b"
   ]
  },
  {
   "cell_type": "code",
   "execution_count": 7,
   "id": "873eff12-c138-4756-996b-6e724e51ff9f",
   "metadata": {},
   "outputs": [
    {
     "data": {
      "text/plain": [
       "5.0"
      ]
     },
     "execution_count": 7,
     "metadata": {},
     "output_type": "execute_result"
    }
   ],
   "source": [
    "a/b"
   ]
  },
  {
   "cell_type": "code",
   "execution_count": 9,
   "id": "9b2fe909-8fbe-4c79-9a7f-a42442c69f79",
   "metadata": {},
   "outputs": [
    {
     "data": {
      "text/plain": [
       "5"
      ]
     },
     "execution_count": 9,
     "metadata": {},
     "output_type": "execute_result"
    }
   ],
   "source": [
    "a//b"
   ]
  },
  {
   "cell_type": "code",
   "execution_count": 11,
   "id": "2c0c4d48-6039-467b-a4ee-df6361047874",
   "metadata": {},
   "outputs": [
    {
     "data": {
      "text/plain": [
       "100"
      ]
     },
     "execution_count": 11,
     "metadata": {},
     "output_type": "execute_result"
    }
   ],
   "source": [
    "a**b"
   ]
  },
  {
   "cell_type": "code",
   "execution_count": 12,
   "id": "67b97460-5cbd-4d74-ac9d-cc2636dce535",
   "metadata": {},
   "outputs": [
    {
     "data": {
      "text/plain": [
       "161051"
      ]
     },
     "execution_count": 12,
     "metadata": {},
     "output_type": "execute_result"
    }
   ],
   "source": [
    "11**5"
   ]
  },
  {
   "cell_type": "code",
   "execution_count": 15,
   "id": "a42ce801-6e61-43f7-926d-7ae4bc5eeddd",
   "metadata": {},
   "outputs": [
    {
     "data": {
      "text/plain": [
       "1849"
      ]
     },
     "execution_count": 15,
     "metadata": {},
     "output_type": "execute_result"
    }
   ],
   "source": [
    "43**2"
   ]
  },
  {
   "cell_type": "code",
   "execution_count": 18,
   "id": "6cf28497-14ee-4250-b45d-cdd47bea4b3d",
   "metadata": {},
   "outputs": [
    {
     "data": {
      "text/plain": [
       "0"
      ]
     },
     "execution_count": 18,
     "metadata": {},
     "output_type": "execute_result"
    }
   ],
   "source": [
    "a%b"
   ]
  },
  {
   "cell_type": "markdown",
   "id": "1e89b76a-534c-4063-b991-5c9723a5aa96",
   "metadata": {},
   "source": [
    "Comparision Operator"
   ]
  },
  {
   "cell_type": "code",
   "execution_count": 20,
   "id": "e41aa500-58e5-49ab-b7f5-7728122272d0",
   "metadata": {},
   "outputs": [],
   "source": [
    "a= 54"
   ]
  },
  {
   "cell_type": "code",
   "execution_count": 21,
   "id": "ebe87f0b-e7d7-4039-8b76-f30732cc006e",
   "metadata": {},
   "outputs": [],
   "source": [
    "b= 4"
   ]
  },
  {
   "cell_type": "code",
   "execution_count": 22,
   "id": "78e166d1-b12b-4700-a2be-1e55a9872465",
   "metadata": {},
   "outputs": [
    {
     "data": {
      "text/plain": [
       "False"
      ]
     },
     "execution_count": 22,
     "metadata": {},
     "output_type": "execute_result"
    }
   ],
   "source": [
    "a<b"
   ]
  },
  {
   "cell_type": "code",
   "execution_count": 23,
   "id": "33046d2c-14cf-477f-9a4a-27515f49c12a",
   "metadata": {},
   "outputs": [
    {
     "data": {
      "text/plain": [
       "True"
      ]
     },
     "execution_count": 23,
     "metadata": {},
     "output_type": "execute_result"
    }
   ],
   "source": [
    "a>b"
   ]
  },
  {
   "cell_type": "code",
   "execution_count": 24,
   "id": "d2d70904-b3f3-4b2e-b8ba-806d9d492352",
   "metadata": {},
   "outputs": [
    {
     "data": {
      "text/plain": [
       "True"
      ]
     },
     "execution_count": 24,
     "metadata": {},
     "output_type": "execute_result"
    }
   ],
   "source": [
    "a>=b"
   ]
  },
  {
   "cell_type": "code",
   "execution_count": 25,
   "id": "616bfac9-193c-420d-84bb-ccd32677b940",
   "metadata": {},
   "outputs": [
    {
     "data": {
      "text/plain": [
       "False"
      ]
     },
     "execution_count": 25,
     "metadata": {},
     "output_type": "execute_result"
    }
   ],
   "source": [
    "a<=b"
   ]
  },
  {
   "cell_type": "code",
   "execution_count": 26,
   "id": "319ed346-1711-4997-bf59-8439558b6463",
   "metadata": {},
   "outputs": [],
   "source": [
    "c= 3"
   ]
  },
  {
   "cell_type": "code",
   "execution_count": 28,
   "id": "f07cfc32-3838-4aeb-9ee4-196e8d722fe3",
   "metadata": {},
   "outputs": [
    {
     "data": {
      "text/plain": [
       "False"
      ]
     },
     "execution_count": 28,
     "metadata": {},
     "output_type": "execute_result"
    }
   ],
   "source": [
    "a == c # in this we simply asking is a equal to c?"
   ]
  },
  {
   "cell_type": "code",
   "execution_count": 30,
   "id": "0ebf4561-aeb1-4c7e-b366-70b28852be51",
   "metadata": {},
   "outputs": [
    {
     "data": {
      "text/plain": [
       "True"
      ]
     },
     "execution_count": 30,
     "metadata": {},
     "output_type": "execute_result"
    }
   ],
   "source": [
    "a != c # In this we simply asking is a not equal to c?"
   ]
  },
  {
   "cell_type": "code",
   "execution_count": 32,
   "id": "509b702c-cd15-49ee-b16a-7f1eb97dff86",
   "metadata": {},
   "outputs": [],
   "source": [
    "a= 5"
   ]
  },
  {
   "cell_type": "code",
   "execution_count": 33,
   "id": "88efbd49-8ad6-4486-aeb7-f82ca4e7288c",
   "metadata": {},
   "outputs": [],
   "source": [
    "b= 5"
   ]
  },
  {
   "cell_type": "code",
   "execution_count": 34,
   "id": "1992bfef-b5b0-41d8-bc87-986ae0f051b4",
   "metadata": {},
   "outputs": [
    {
     "data": {
      "text/plain": [
       "True"
      ]
     },
     "execution_count": 34,
     "metadata": {},
     "output_type": "execute_result"
    }
   ],
   "source": [
    "a == b"
   ]
  },
  {
   "cell_type": "code",
   "execution_count": 35,
   "id": "81c63e91-5fe1-43b3-80e9-545b90a3916a",
   "metadata": {},
   "outputs": [
    {
     "data": {
      "text/plain": [
       "True"
      ]
     },
     "execution_count": 35,
     "metadata": {},
     "output_type": "execute_result"
    }
   ],
   "source": [
    "a>=b"
   ]
  },
  {
   "cell_type": "code",
   "execution_count": 36,
   "id": "dbc0e681-c794-4cce-9fa3-305b8a37b6ff",
   "metadata": {},
   "outputs": [
    {
     "data": {
      "text/plain": [
       "True"
      ]
     },
     "execution_count": 36,
     "metadata": {},
     "output_type": "execute_result"
    }
   ],
   "source": [
    "a<=b"
   ]
  },
  {
   "cell_type": "code",
   "execution_count": 40,
   "id": "879f48a2-74a4-4e93-8b7f-d22f0181afbd",
   "metadata": {},
   "outputs": [],
   "source": [
    "b1 = True\n",
    "b2 = False"
   ]
  },
  {
   "cell_type": "code",
   "execution_count": 38,
   "id": "c26fd93b-5293-484d-ae65-aa15669b2399",
   "metadata": {},
   "outputs": [
    {
     "data": {
      "text/plain": [
       "False"
      ]
     },
     "execution_count": 38,
     "metadata": {},
     "output_type": "execute_result"
    }
   ],
   "source": [
    "not(b1)"
   ]
  },
  {
   "cell_type": "code",
   "execution_count": 41,
   "id": "be223889-3db6-4d31-af30-001b527f0878",
   "metadata": {},
   "outputs": [
    {
     "data": {
      "text/plain": [
       "True"
      ]
     },
     "execution_count": 41,
     "metadata": {},
     "output_type": "execute_result"
    }
   ],
   "source": [
    "not(b2)"
   ]
  },
  {
   "cell_type": "code",
   "execution_count": 43,
   "id": "f56b4b64-6fc9-41b2-951e-0bec3e44f990",
   "metadata": {},
   "outputs": [
    {
     "data": {
      "text/plain": [
       "True"
      ]
     },
     "execution_count": 43,
     "metadata": {},
     "output_type": "execute_result"
    }
   ],
   "source": [
    "b1 or b2"
   ]
  },
  {
   "cell_type": "code",
   "execution_count": 45,
   "id": "f120bf82-9163-40b4-a1c9-9648702d245d",
   "metadata": {},
   "outputs": [
    {
     "data": {
      "text/plain": [
       "False"
      ]
     },
     "execution_count": 45,
     "metadata": {},
     "output_type": "execute_result"
    }
   ],
   "source": [
    "b1 and b2"
   ]
  },
  {
   "cell_type": "markdown",
   "id": "d4cd2f37-ff7a-4d05-9e49-a47f483157b4",
   "metadata": {},
   "source": [
    "Assignment Operators- Use to assign values to variables. "
   ]
  },
  {
   "cell_type": "code",
   "execution_count": 66,
   "id": "f2c0e968-7e14-4f53-83ca-30eb94f95aaf",
   "metadata": {},
   "outputs": [],
   "source": [
    "a= 45"
   ]
  },
  {
   "cell_type": "code",
   "execution_count": 68,
   "id": "57193431-8a9d-4f38-a8de-f5d1ae26bfb9",
   "metadata": {},
   "outputs": [],
   "source": [
    "a += 4"
   ]
  },
  {
   "cell_type": "code",
   "execution_count": 70,
   "id": "d080b8e7-fc0a-4432-967d-1801848b1a1c",
   "metadata": {},
   "outputs": [
    {
     "data": {
      "text/plain": [
       "53"
      ]
     },
     "execution_count": 70,
     "metadata": {},
     "output_type": "execute_result"
    }
   ],
   "source": [
    "a"
   ]
  },
  {
   "cell_type": "code",
   "execution_count": 72,
   "id": "778b1005-49ac-4414-8d99-6cf6a6bed495",
   "metadata": {},
   "outputs": [],
   "source": [
    "a -= 4"
   ]
  },
  {
   "cell_type": "code",
   "execution_count": 74,
   "id": "3e441b69-ac8e-4dcc-b496-f5c2e330ceb5",
   "metadata": {},
   "outputs": [
    {
     "data": {
      "text/plain": [
       "45"
      ]
     },
     "execution_count": 74,
     "metadata": {},
     "output_type": "execute_result"
    }
   ],
   "source": [
    "a"
   ]
  },
  {
   "cell_type": "code",
   "execution_count": 93,
   "id": "ea41b9f7-d8ae-4a26-86eb-1320fac91284",
   "metadata": {},
   "outputs": [],
   "source": [
    "a= 34\n",
    "a *= 2"
   ]
  },
  {
   "cell_type": "code",
   "execution_count": 94,
   "id": "f274f128-00a3-4324-9ff7-7bea4d9cfb90",
   "metadata": {},
   "outputs": [
    {
     "data": {
      "text/plain": [
       "68"
      ]
     },
     "execution_count": 94,
     "metadata": {},
     "output_type": "execute_result"
    }
   ],
   "source": [
    "a"
   ]
  },
  {
   "cell_type": "code",
   "execution_count": 95,
   "id": "9c04cdce-1ee7-42de-bf5f-5e50f001bcbe",
   "metadata": {},
   "outputs": [],
   "source": [
    "a /=6"
   ]
  },
  {
   "cell_type": "code",
   "execution_count": 96,
   "id": "1757fdef-c17d-44dd-80fe-c36f932c2805",
   "metadata": {},
   "outputs": [
    {
     "data": {
      "text/plain": [
       "11.333333333333334"
      ]
     },
     "execution_count": 96,
     "metadata": {},
     "output_type": "execute_result"
    }
   ],
   "source": [
    "a"
   ]
  },
  {
   "cell_type": "code",
   "execution_count": 100,
   "id": "a4c01358-0535-4c5e-86fc-d9a560ef693e",
   "metadata": {},
   "outputs": [],
   "source": [
    "a= 45\n",
    "a //= 3"
   ]
  },
  {
   "cell_type": "code",
   "execution_count": 102,
   "id": "b84dbef3-bb94-404a-bf3a-537e2b34d924",
   "metadata": {},
   "outputs": [
    {
     "data": {
      "text/plain": [
       "15"
      ]
     },
     "execution_count": 102,
     "metadata": {},
     "output_type": "execute_result"
    }
   ],
   "source": [
    "a"
   ]
  },
  {
   "cell_type": "code",
   "execution_count": 10,
   "id": "8941ca8d-52e2-49cf-915a-a14678f884ab",
   "metadata": {},
   "outputs": [],
   "source": [
    "a= 5"
   ]
  },
  {
   "cell_type": "code",
   "execution_count": 12,
   "id": "01b90b8c-e0cf-4237-93ec-75095f58dbc2",
   "metadata": {},
   "outputs": [],
   "source": [
    "b= 3"
   ]
  },
  {
   "cell_type": "code",
   "execution_count": 15,
   "id": "67cd9c76-32e9-4df1-9125-b0f5fa8e8d3c",
   "metadata": {},
   "outputs": [
    {
     "data": {
      "text/plain": [
       "1"
      ]
     },
     "execution_count": 15,
     "metadata": {},
     "output_type": "execute_result"
    }
   ],
   "source": [
    "a & b"
   ]
  }
 ],
 "metadata": {
  "kernelspec": {
   "display_name": "Python [conda env:base] *",
   "language": "python",
   "name": "conda-base-py"
  },
  "language_info": {
   "codemirror_mode": {
    "name": "ipython",
    "version": 3
   },
   "file_extension": ".py",
   "mimetype": "text/x-python",
   "name": "python",
   "nbconvert_exporter": "python",
   "pygments_lexer": "ipython3",
   "version": "3.12.7"
  }
 },
 "nbformat": 4,
 "nbformat_minor": 5
}
